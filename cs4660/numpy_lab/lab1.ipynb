{
 "cells": [
  {
   "cell_type": "markdown",
   "metadata": {},
   "source": [
    "Create a Python script answering the problems below and submit here (not to Github). Also, call me over to see demo if you finish before the lab is over.\n",
    "\n",
    "1. Import the numpy package with the alias np\n",
    "\n",
    "2. Create a vector of zeros of size 10 but the fifth value which is 1 \n",
    "\n",
    "3. Create a 3 X 3 array of any values. Add a column of ones to the end\n",
    "\n",
    "4. Create a vector with values ranging from 10 to 49 \n",
    "\n",
    "5. Reverse the above vector (first element becomes last)\n",
    "\n",
    "6. Create a 4x4 matrix with values ranging from 0 to 15 \n",
    "\n",
    "7. Create a 3x3x3 array with random values \n",
    "\n",
    "8. Create a 10x10 array with random values and find the minimum and maximum values \n",
    "\n",
    "9. Create a random vector of size 30 and find the mean value \n",
    "\n",
    "10. What does NaN mean? Submit in a comment\n",
    "\n",
    "11. Write a function that takes 1D array and negates all elements which are between 3 and 8, in place. Demo it with an array of your choosing\n",
    "\n",
    " "
   ]
  },
  {
   "cell_type": "code",
   "execution_count": 8,
   "metadata": {},
   "outputs": [
    {
     "data": {
      "text/plain": [
       "array([ 0.,  0.,  0.,  0.,  1.,  0.,  0.,  0.,  0.,  0.])"
      ]
     },
     "execution_count": 8,
     "metadata": {},
     "output_type": "execute_result"
    }
   ],
   "source": [
    "import numpy as np\n",
    "\n",
    "vec1 = np.zeros(10)\n",
    "vec1[4] = 1\n",
    "vec1"
   ]
  },
  {
   "cell_type": "code",
   "execution_count": 31,
   "metadata": {},
   "outputs": [
    {
     "data": {
      "text/plain": [
       "array([[ 0.,  0.,  0.,  1.],\n",
       "       [ 0.,  0.,  0.,  1.],\n",
       "       [ 0.,  0.,  0.,  1.]])"
      ]
     },
     "execution_count": 31,
     "metadata": {},
     "output_type": "execute_result"
    }
   ],
   "source": [
    "np.append(np.zeros((3, 3)), np.ones((3, 1)), axis=1)"
   ]
  },
  {
   "cell_type": "code",
   "execution_count": 32,
   "metadata": {},
   "outputs": [
    {
     "data": {
      "text/plain": [
       "array([10, 11, 12, 13, 14, 15, 16, 17, 18, 19, 20, 21, 22, 23, 24, 25, 26,\n",
       "       27, 28, 29, 30, 31, 32, 33, 34, 35, 36, 37, 38, 39, 40, 41, 42, 43,\n",
       "       44, 45, 46, 47, 48, 49])"
      ]
     },
     "execution_count": 32,
     "metadata": {},
     "output_type": "execute_result"
    }
   ],
   "source": [
    "np.arange(10, 50)"
   ]
  },
  {
   "cell_type": "code",
   "execution_count": 37,
   "metadata": {},
   "outputs": [
    {
     "data": {
      "text/plain": [
       "array([49, 48, 47, 46, 45, 44, 43, 42, 41, 40, 39, 38, 37, 36, 35, 34, 33,\n",
       "       32, 31, 30, 29, 28, 27, 26, 25, 24, 23, 22, 21, 20, 19, 18, 17, 16,\n",
       "       15, 14, 13, 12, 11, 10])"
      ]
     },
     "execution_count": 37,
     "metadata": {},
     "output_type": "execute_result"
    }
   ],
   "source": [
    "np.arange(10, 50)[::-1]"
   ]
  },
  {
   "cell_type": "code",
   "execution_count": 40,
   "metadata": {},
   "outputs": [
    {
     "data": {
      "text/plain": [
       "array([[ 0,  1,  2,  3],\n",
       "       [ 4,  5,  6,  7],\n",
       "       [ 8,  9, 10, 11],\n",
       "       [12, 13, 14, 15]])"
      ]
     },
     "execution_count": 40,
     "metadata": {},
     "output_type": "execute_result"
    }
   ],
   "source": [
    "np.reshape(np.arange(16), (4, 4))"
   ]
  },
  {
   "cell_type": "code",
   "execution_count": 42,
   "metadata": {},
   "outputs": [
    {
     "data": {
      "text/plain": [
       "array([[[ 0.34621709,  0.5209991 ,  0.2841338 ],\n",
       "        [ 0.28404878,  0.06575532,  0.2055935 ],\n",
       "        [ 0.94366995,  0.07652583,  0.79696885]],\n",
       "\n",
       "       [[ 0.86062183,  0.90825459,  0.25574024],\n",
       "        [ 0.32889585,  0.36056981,  0.63242737],\n",
       "        [ 0.34616365,  0.31014825,  0.63669665]],\n",
       "\n",
       "       [[ 0.17135608,  0.4980131 ,  0.17097521],\n",
       "        [ 0.34228321,  0.09249335,  0.08996997],\n",
       "        [ 0.44345039,  0.35002776,  0.42410184]]])"
      ]
     },
     "execution_count": 42,
     "metadata": {},
     "output_type": "execute_result"
    }
   ],
   "source": [
    "np.random.rand(3, 3, 3)"
   ]
  },
  {
   "cell_type": "code",
   "execution_count": 88,
   "metadata": {},
   "outputs": [],
   "source": [
    "vec2 = np.random.rand(10, 10)"
   ]
  },
  {
   "cell_type": "code",
   "execution_count": 80,
   "metadata": {},
   "outputs": [
    {
     "data": {
      "text/plain": [
       "0.016031936555687132"
      ]
     },
     "execution_count": 80,
     "metadata": {},
     "output_type": "execute_result"
    }
   ],
   "source": [
    "vec2.min()"
   ]
  },
  {
   "cell_type": "code",
   "execution_count": 89,
   "metadata": {},
   "outputs": [
    {
     "data": {
      "text/plain": [
       "0.99311795516207224"
      ]
     },
     "execution_count": 89,
     "metadata": {},
     "output_type": "execute_result"
    }
   ],
   "source": [
    "vec2.max()"
   ]
  },
  {
   "cell_type": "code",
   "execution_count": 102,
   "metadata": {},
   "outputs": [
    {
     "data": {
      "text/plain": [
       "0.55765877175500667"
      ]
     },
     "execution_count": 102,
     "metadata": {},
     "output_type": "execute_result"
    }
   ],
   "source": [
    "np.random.rand(30).mean()"
   ]
  },
  {
   "cell_type": "code",
   "execution_count": null,
   "metadata": {
    "collapsed": true
   },
   "outputs": [],
   "source": [
    "# NaN means Not a Number"
   ]
  },
  {
   "cell_type": "code",
   "execution_count": 114,
   "metadata": {},
   "outputs": [
    {
     "data": {
      "text/plain": [
       "array([ -6.67,  -4.86,   3.  ,   1.43,   2.91,  -5.21,   2.59,  10.62,\n",
       "        -4.4 ,   9.39,   0.58,  -4.22,  -7.37,   2.24,   0.74,   9.41,\n",
       "        -6.11,  10.71,  11.68,  -3.47,   1.1 ,  -7.02,  -3.17,  -4.85,\n",
       "        11.3 ,   8.9 ,  11.44,  -4.07,  -6.96,   2.76])"
      ]
     },
     "execution_count": 114,
     "metadata": {},
     "output_type": "execute_result"
    }
   ],
   "source": [
    "def invert_three_to_eight(array):\n",
    "    array[(array > 3) & (array < 8)] *= -1\n",
    "    \n",
    "demo_array = np.around(np.random.rand(30) * 12, decimals=2)\n",
    "invert_three_to_eight(demo_array)\n",
    "demo_array"
   ]
  }
 ],
 "metadata": {
  "kernelspec": {
   "display_name": "Python 3",
   "language": "python",
   "name": "python3"
  },
  "language_info": {
   "codemirror_mode": {
    "name": "ipython",
    "version": 3
   },
   "file_extension": ".py",
   "mimetype": "text/x-python",
   "name": "python",
   "nbconvert_exporter": "python",
   "pygments_lexer": "ipython3",
   "version": "3.6.2"
  }
 },
 "nbformat": 4,
 "nbformat_minor": 2
}
