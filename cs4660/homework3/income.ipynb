{
 "cells": [
  {
   "cell_type": "markdown",
   "metadata": {},
   "source": [
    "Do some machine learning on data found here http://mlr.cs.umass.edu/ml/machine-learning-databases/adult/using aimed at predicting whether or not a person will make over 50k a year. Do it in an IPython Notebook. Look in adult.data for the data, save it as a csv file. The adult.names file has information about the set. \n",
    "\n",
    "You may use Pandas if you want, google for a tutorial (there are many, and it's easy to learn). Or you can just use Numpy, or a combination of both.\n",
    "\n",
    "2 pts Create a notebook.\n",
    "\n",
    "2 pts Replace all empty numeric fields with the average of its column in this new column.\n",
    "\n",
    "2 pts Convert non-numeric columns to columns with an integer representations (like we did with the decision trees. \n",
    "\n",
    "2 pts Convert the data to a numpy array if it isn't one already.\n",
    "\n",
    "2 pts Divide the data into a training and test set.\n",
    "\n",
    "2 pts Run both a random forest and gaussian naive bayes on the training set.\n",
    "\n",
    "2 pts Compute the accuracy of predictions on the test set.\n",
    "\n",
    "Document all of these steps with a markup field (-1 pt for each one missing)\n",
    "\n",
    "Submit your notebook here. "
   ]
  },
  {
   "cell_type": "code",
   "execution_count": null,
   "metadata": {
    "collapsed": true
   },
   "outputs": [],
   "source": []
  }
 ],
 "metadata": {
  "kernelspec": {
   "display_name": "Python 3",
   "language": "python",
   "name": "python3"
  },
  "language_info": {
   "codemirror_mode": {
    "name": "ipython",
    "version": 3
   },
   "file_extension": ".py",
   "mimetype": "text/x-python",
   "name": "python",
   "nbconvert_exporter": "python",
   "pygments_lexer": "ipython3",
   "version": "3.6.2"
  }
 },
 "nbformat": 4,
 "nbformat_minor": 2
}
